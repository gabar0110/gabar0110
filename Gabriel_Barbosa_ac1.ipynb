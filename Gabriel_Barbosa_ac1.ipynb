{
  "nbformat": 4,
  "nbformat_minor": 0,
  "metadata": {
    "colab": {
      "provenance": [],
      "authorship_tag": "ABX9TyOzQ+V8tv6RChDJ97RiMLQT",
      "include_colab_link": true
    },
    "kernelspec": {
      "name": "python3",
      "display_name": "Python 3"
    },
    "language_info": {
      "name": "python"
    }
  },
  "cells": [
    {
      "cell_type": "markdown",
      "metadata": {
        "id": "view-in-github",
        "colab_type": "text"
      },
      "source": [
        "<a href=\"https://colab.research.google.com/github/gabar0110/gabar0110/blob/main/Gabriel_Barbosa_ac1.ipynb\" target=\"_parent\"><img src=\"https://colab.research.google.com/assets/colab-badge.svg\" alt=\"Open In Colab\"/></a>"
      ]
    },
    {
      "cell_type": "code",
      "execution_count": null,
      "metadata": {
        "id": "P79btOCEJeCI"
      },
      "outputs": [],
      "source": [
        "import requests\n"
      ]
    },
    {
      "cell_type": "code",
      "source": [
        "v1=str(input(\"qual robo?\"))\n",
        "v2=str(input(\"qual camera\"))\n",
        "\n",
        "resposta = requests.get(\"https://api.nasa.gov/mars-photos/api/v1/rovers/{}/photos?sol=1000&api_key=NgPLs0KT8qMdKYwuItVTsAfTcG0BdoSRRnaxOLQW\")\n",
        "print(resposta)\n",
        "resposta.json()"
      ],
      "metadata": {
        "id": "437Lr8GoxP9w"
      },
      "execution_count": null,
      "outputs": []
    }
  ]
}